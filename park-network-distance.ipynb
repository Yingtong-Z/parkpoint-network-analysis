{
 "cells": [
  {
   "cell_type": "code",
   "execution_count": 1,
   "metadata": {},
   "outputs": [],
   "source": [
    "# save\n",
    "import geopandas as gpd\n",
    "import osmnx as ox\n",
    "import networkx as nx\n",
    "from shapely.geometry import Point\n"
   ]
  },
  {
   "cell_type": "code",
   "execution_count": 4,
   "metadata": {},
   "outputs": [],
   "source": [
    "random_points_gdf = gpd.read_file('/Users/angel_zhong/Documents/GitHub/park-network-distance/data/countyRandomPoint/CountyRandomPoint.shp')\n",
    "park_points_gdf = gpd.read_file('/Users/angel_zhong/Documents/GitHub/park-network-distance/data/parkPoint/park3_FeatureToPoint.shp')\n",
    "county_gdf = gpd.read_file('/Users/angel_zhong/Documents/GitHub/park-network-distance/data/tl_2020_us_county/tl_2020_us_county.shp')\n"
   ]
  },
  {
   "cell_type": "code",
   "execution_count": 3,
   "metadata": {},
   "outputs": [
    {
     "data": {
      "text/html": [
       "<div>\n",
       "<style scoped>\n",
       "    .dataframe tbody tr th:only-of-type {\n",
       "        vertical-align: middle;\n",
       "    }\n",
       "\n",
       "    .dataframe tbody tr th {\n",
       "        vertical-align: top;\n",
       "    }\n",
       "\n",
       "    .dataframe thead th {\n",
       "        text-align: right;\n",
       "    }\n",
       "</style>\n",
       "<table border=\"1\" class=\"dataframe\">\n",
       "  <thead>\n",
       "    <tr style=\"text-align: right;\">\n",
       "      <th></th>\n",
       "      <th>CID</th>\n",
       "      <th>geometry</th>\n",
       "    </tr>\n",
       "  </thead>\n",
       "  <tbody>\n",
       "    <tr>\n",
       "      <th>0</th>\n",
       "      <td>0</td>\n",
       "      <td>POINT (892412.278 1090889.261)</td>\n",
       "    </tr>\n",
       "    <tr>\n",
       "      <th>1</th>\n",
       "      <td>0</td>\n",
       "      <td>POINT (855626.104 1081505.318)</td>\n",
       "    </tr>\n",
       "    <tr>\n",
       "      <th>2</th>\n",
       "      <td>0</td>\n",
       "      <td>POINT (853773.624 1087400.239)</td>\n",
       "    </tr>\n",
       "    <tr>\n",
       "      <th>3</th>\n",
       "      <td>0</td>\n",
       "      <td>POINT (886827.950 1106448.313)</td>\n",
       "    </tr>\n",
       "    <tr>\n",
       "      <th>4</th>\n",
       "      <td>0</td>\n",
       "      <td>POINT (861846.327 1095838.366)</td>\n",
       "    </tr>\n",
       "  </tbody>\n",
       "</table>\n",
       "</div>"
      ],
      "text/plain": [
       "   CID                        geometry\n",
       "0    0  POINT (892412.278 1090889.261)\n",
       "1    0  POINT (855626.104 1081505.318)\n",
       "2    0  POINT (853773.624 1087400.239)\n",
       "3    0  POINT (886827.950 1106448.313)\n",
       "4    0  POINT (861846.327 1095838.366)"
      ]
     },
     "execution_count": 3,
     "metadata": {},
     "output_type": "execute_result"
    }
   ],
   "source": [
    "random_points_gdf.head()\n"
   ]
  },
  {
   "cell_type": "code",
   "execution_count": 14,
   "metadata": {},
   "outputs": [
    {
     "name": "stdout",
     "output_type": "stream",
     "text": [
      "Random points CRS: EPSG:4326\n",
      "park points CRS: EPSG:4326\n",
      "County boundaries CRS: EPSG:4326\n"
     ]
    }
   ],
   "source": [
    "# Check the spatial references of both GeoDataFrames\n",
    "print(\"Random points CRS:\", random_points_gdf.crs)\n",
    "print(\"park points CRS:\", park_points_gdf.crs)\n",
    "print(\"County boundaries CRS:\", county_gdf.crs)"
   ]
  },
  {
   "cell_type": "code",
   "execution_count": 13,
   "metadata": {},
   "outputs": [],
   "source": [
    "target_crs = 'EPSG:4326'\n",
    "\n",
    "if random_points_gdf.crs != target_crs:\n",
    "    random_points_gdf = random_points_gdf.to_crs(target_crs)\n",
    "\n",
    "if park_points_gdf.crs != target_crs:\n",
    "    park_points_gdf = park_points_gdf.to_crs(target_crs)\n",
    "\n",
    "if county_gdf.crs != target_crs:\n",
    "    county_gdf = county_gdf.to_crs(target_crs)"
   ]
  },
  {
   "cell_type": "code",
   "execution_count": 15,
   "metadata": {},
   "outputs": [
    {
     "name": "stderr",
     "output_type": "stream",
     "text": [
      "/Users/angel_zhong/opt/anaconda3/lib/python3.8/site-packages/IPython/core/interactiveshell.py:3400: FutureWarning: The `op` parameter is deprecated and will be removed in a future release. Please use the `predicate` parameter instead.\n",
      "  if await self.run_code(code, result, async_=asy):\n",
      "/Users/angel_zhong/opt/anaconda3/lib/python3.8/site-packages/IPython/core/interactiveshell.py:3400: FutureWarning: The `op` parameter is deprecated and will be removed in a future release. Please use the `predicate` parameter instead.\n",
      "  if await self.run_code(code, result, async_=asy):\n"
     ]
    }
   ],
   "source": [
    "random_points_with_county = gpd.sjoin(random_points_gdf, county_gdf, op='within')\n",
    "park_points_with_county = gpd.sjoin(park_points_gdf, county_gdf, op='within')\n"
   ]
  },
  {
   "cell_type": "code",
   "execution_count": 9,
   "metadata": {},
   "outputs": [
    {
     "data": {
      "text/html": [
       "<div>\n",
       "<style scoped>\n",
       "    .dataframe tbody tr th:only-of-type {\n",
       "        vertical-align: middle;\n",
       "    }\n",
       "\n",
       "    .dataframe tbody tr th {\n",
       "        vertical-align: top;\n",
       "    }\n",
       "\n",
       "    .dataframe thead th {\n",
       "        text-align: right;\n",
       "    }\n",
       "</style>\n",
       "<table border=\"1\" class=\"dataframe\">\n",
       "  <thead>\n",
       "    <tr style=\"text-align: right;\">\n",
       "      <th></th>\n",
       "      <th>CID</th>\n",
       "      <th>geometry</th>\n",
       "      <th>index_right</th>\n",
       "      <th>STATEFP</th>\n",
       "      <th>COUNTYFP</th>\n",
       "      <th>COUNTYNS</th>\n",
       "      <th>GEOID</th>\n",
       "      <th>NAME</th>\n",
       "      <th>NAMELSAD</th>\n",
       "      <th>LSAD</th>\n",
       "      <th>CLASSFP</th>\n",
       "      <th>MTFCC</th>\n",
       "      <th>CSAFP</th>\n",
       "      <th>CBSAFP</th>\n",
       "      <th>METDIVFP</th>\n",
       "      <th>FUNCSTAT</th>\n",
       "      <th>ALAND</th>\n",
       "      <th>AWATER</th>\n",
       "      <th>INTPTLAT</th>\n",
       "      <th>INTPTLON</th>\n",
       "    </tr>\n",
       "  </thead>\n",
       "  <tbody>\n",
       "    <tr>\n",
       "      <th>0</th>\n",
       "      <td>0</td>\n",
       "      <td>POINT (-86.43654 32.48595)</td>\n",
       "      <td>1327</td>\n",
       "      <td>01</td>\n",
       "      <td>001</td>\n",
       "      <td>00161526</td>\n",
       "      <td>01001</td>\n",
       "      <td>Autauga</td>\n",
       "      <td>Autauga County</td>\n",
       "      <td>06</td>\n",
       "      <td>H1</td>\n",
       "      <td>G4020</td>\n",
       "      <td>388</td>\n",
       "      <td>33860</td>\n",
       "      <td>None</td>\n",
       "      <td>A</td>\n",
       "      <td>1539634184</td>\n",
       "      <td>25674812</td>\n",
       "      <td>+32.5322367</td>\n",
       "      <td>-086.6464395</td>\n",
       "    </tr>\n",
       "    <tr>\n",
       "      <th>1</th>\n",
       "      <td>0</td>\n",
       "      <td>POINT (-86.83793 32.43465)</td>\n",
       "      <td>1327</td>\n",
       "      <td>01</td>\n",
       "      <td>001</td>\n",
       "      <td>00161526</td>\n",
       "      <td>01001</td>\n",
       "      <td>Autauga</td>\n",
       "      <td>Autauga County</td>\n",
       "      <td>06</td>\n",
       "      <td>H1</td>\n",
       "      <td>G4020</td>\n",
       "      <td>388</td>\n",
       "      <td>33860</td>\n",
       "      <td>None</td>\n",
       "      <td>A</td>\n",
       "      <td>1539634184</td>\n",
       "      <td>25674812</td>\n",
       "      <td>+32.5322367</td>\n",
       "      <td>-086.6464395</td>\n",
       "    </tr>\n",
       "    <tr>\n",
       "      <th>2</th>\n",
       "      <td>0</td>\n",
       "      <td>POINT (-86.85158 32.48887)</td>\n",
       "      <td>1327</td>\n",
       "      <td>01</td>\n",
       "      <td>001</td>\n",
       "      <td>00161526</td>\n",
       "      <td>01001</td>\n",
       "      <td>Autauga</td>\n",
       "      <td>Autauga County</td>\n",
       "      <td>06</td>\n",
       "      <td>H1</td>\n",
       "      <td>G4020</td>\n",
       "      <td>388</td>\n",
       "      <td>33860</td>\n",
       "      <td>None</td>\n",
       "      <td>A</td>\n",
       "      <td>1539634184</td>\n",
       "      <td>25674812</td>\n",
       "      <td>+32.5322367</td>\n",
       "      <td>-086.6464395</td>\n",
       "    </tr>\n",
       "    <tr>\n",
       "      <th>3</th>\n",
       "      <td>0</td>\n",
       "      <td>POINT (-86.47934 32.62978)</td>\n",
       "      <td>1327</td>\n",
       "      <td>01</td>\n",
       "      <td>001</td>\n",
       "      <td>00161526</td>\n",
       "      <td>01001</td>\n",
       "      <td>Autauga</td>\n",
       "      <td>Autauga County</td>\n",
       "      <td>06</td>\n",
       "      <td>H1</td>\n",
       "      <td>G4020</td>\n",
       "      <td>388</td>\n",
       "      <td>33860</td>\n",
       "      <td>None</td>\n",
       "      <td>A</td>\n",
       "      <td>1539634184</td>\n",
       "      <td>25674812</td>\n",
       "      <td>+32.5322367</td>\n",
       "      <td>-086.6464395</td>\n",
       "    </tr>\n",
       "    <tr>\n",
       "      <th>4</th>\n",
       "      <td>0</td>\n",
       "      <td>POINT (-86.75686 32.55719)</td>\n",
       "      <td>1327</td>\n",
       "      <td>01</td>\n",
       "      <td>001</td>\n",
       "      <td>00161526</td>\n",
       "      <td>01001</td>\n",
       "      <td>Autauga</td>\n",
       "      <td>Autauga County</td>\n",
       "      <td>06</td>\n",
       "      <td>H1</td>\n",
       "      <td>G4020</td>\n",
       "      <td>388</td>\n",
       "      <td>33860</td>\n",
       "      <td>None</td>\n",
       "      <td>A</td>\n",
       "      <td>1539634184</td>\n",
       "      <td>25674812</td>\n",
       "      <td>+32.5322367</td>\n",
       "      <td>-086.6464395</td>\n",
       "    </tr>\n",
       "  </tbody>\n",
       "</table>\n",
       "</div>"
      ],
      "text/plain": [
       "   CID                    geometry  index_right STATEFP COUNTYFP  COUNTYNS  \\\n",
       "0    0  POINT (-86.43654 32.48595)         1327      01      001  00161526   \n",
       "1    0  POINT (-86.83793 32.43465)         1327      01      001  00161526   \n",
       "2    0  POINT (-86.85158 32.48887)         1327      01      001  00161526   \n",
       "3    0  POINT (-86.47934 32.62978)         1327      01      001  00161526   \n",
       "4    0  POINT (-86.75686 32.55719)         1327      01      001  00161526   \n",
       "\n",
       "   GEOID     NAME        NAMELSAD LSAD CLASSFP  MTFCC CSAFP CBSAFP METDIVFP  \\\n",
       "0  01001  Autauga  Autauga County   06      H1  G4020   388  33860     None   \n",
       "1  01001  Autauga  Autauga County   06      H1  G4020   388  33860     None   \n",
       "2  01001  Autauga  Autauga County   06      H1  G4020   388  33860     None   \n",
       "3  01001  Autauga  Autauga County   06      H1  G4020   388  33860     None   \n",
       "4  01001  Autauga  Autauga County   06      H1  G4020   388  33860     None   \n",
       "\n",
       "  FUNCSTAT       ALAND    AWATER     INTPTLAT      INTPTLON  \n",
       "0        A  1539634184  25674812  +32.5322367  -086.6464395  \n",
       "1        A  1539634184  25674812  +32.5322367  -086.6464395  \n",
       "2        A  1539634184  25674812  +32.5322367  -086.6464395  \n",
       "3        A  1539634184  25674812  +32.5322367  -086.6464395  \n",
       "4        A  1539634184  25674812  +32.5322367  -086.6464395  "
      ]
     },
     "execution_count": 9,
     "metadata": {},
     "output_type": "execute_result"
    }
   ],
   "source": [
    "random_points_with_county.head()"
   ]
  },
  {
   "cell_type": "code",
   "execution_count": 10,
   "metadata": {},
   "outputs": [
    {
     "data": {
      "text/plain": [
       "201695"
      ]
     },
     "execution_count": 10,
     "metadata": {},
     "output_type": "execute_result"
    }
   ],
   "source": [
    "len(random_points_with_county)"
   ]
  },
  {
   "cell_type": "code",
   "execution_count": 11,
   "metadata": {},
   "outputs": [
    {
     "data": {
      "text/plain": [
       "201695"
      ]
     },
     "execution_count": 11,
     "metadata": {},
     "output_type": "execute_result"
    }
   ],
   "source": [
    "len(random_points_gdf)"
   ]
  },
  {
   "cell_type": "code",
   "execution_count": 16,
   "metadata": {},
   "outputs": [],
   "source": [
    "def process_county(county, random_points_with_county, park_points_with_county, output_dict):\n",
    "    print(f\"Processing county: {county.NAME}\")\n",
    "\n",
    "    # Get random points and park points within the current county\n",
    "    random_points_in_county = random_points_with_county[random_points_with_county['index_right'] == county.Index]\n",
    "    park_points_in_county = park_points_with_county[park_points_with_county['index_right'] == county.Index]\n",
    "\n",
    "    # Download the street network within the county boundary\n",
    "    county_boundary = county.geometry\n",
    "    G = ox.graph_from_polygon(county_boundary, network_type='all')\n",
    "    G = ox.add_edge_speeds(G)\n",
    "    G = ox.add_edge_travel_times(G)\n",
    "\n",
    "    # Get the nearest network nodes for random points and park points\n",
    "    random_points_nodes = ox.distance.nearest_nodes(G, random_points_in_county.geometry, return_dist=False)\n",
    "    park_points_nodes = ox.distance.nearest_nodes(G, park_points_in_county.geometry, return_dist=False)\n",
    "\n",
    "    # Add 'osmid' column to the dataframes\n",
    "    random_points_in_county['osmid'] = random_points_nodes\n",
    "    park_points_in_county['osmid'] = park_points_nodes\n",
    "\n",
    "    # Find the closest park for each random point\n",
    "    closest_parks = []\n",
    "    for random_point in random_points_in_county.itertuples():\n",
    "        closest_park = find_closest_park(random_point, park_points_in_county, G)\n",
    "        print(f\"Closest park to random point {random_point.Index} is park {closest_park.Index}\")\n",
    "        closest_parks.append((random_point.Index, closest_park.Index))\n",
    "\n",
    "    output_dict[county.Index] = closest_parks\n"
   ]
  },
  {
   "cell_type": "code",
   "execution_count": 19,
   "metadata": {},
   "outputs": [
    {
     "ename": "",
     "evalue": "",
     "output_type": "error",
     "traceback": [
      "\u001b[1;31mCanceled future for execute_request message before replies were done"
     ]
    }
   ],
   "source": [
    "import concurrent.futures\n",
    "\n",
    "output_dict = {}\n",
    "with concurrent.futures.ThreadPoolExecutor() as executor:\n",
    "    futures = []\n",
    "    for county in county_gdf.itertuples():\n",
    "        future = executor.submit(process_county, county, random_points_with_county, park_points_with_county, output_dict)\n",
    "        futures.append(future)\n",
    "\n",
    "    for future in concurrent.futures.as_completed(futures):\n",
    "        print(f\"Finished processing county: {future.result()}\")"
   ]
  },
  {
   "cell_type": "code",
   "execution_count": 1,
   "metadata": {},
   "outputs": [
    {
     "ename": "NameError",
     "evalue": "name 'output_dict' is not defined",
     "output_type": "error",
     "traceback": [
      "\u001b[0;31m---------------------------------------------------------------------------\u001b[0m",
      "\u001b[0;31mNameError\u001b[0m                                 Traceback (most recent call last)",
      "Cell \u001b[0;32mIn[1], line 1\u001b[0m\n\u001b[0;32m----> 1\u001b[0m output_dict\n",
      "\u001b[0;31mNameError\u001b[0m: name 'output_dict' is not defined"
     ]
    }
   ],
   "source": [
    "output_dict"
   ]
  },
  {
   "cell_type": "code",
   "execution_count": null,
   "metadata": {},
   "outputs": [],
   "source": []
  }
 ],
 "metadata": {
  "kernelspec": {
   "display_name": "Python 3",
   "language": "python",
   "name": "python3"
  },
  "language_info": {
   "codemirror_mode": {
    "name": "ipython",
    "version": 3
   },
   "file_extension": ".py",
   "mimetype": "text/x-python",
   "name": "python",
   "nbconvert_exporter": "python",
   "pygments_lexer": "ipython3",
   "version": "3.8.16"
  },
  "orig_nbformat": 4
 },
 "nbformat": 4,
 "nbformat_minor": 2
}
